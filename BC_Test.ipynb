{
  "nbformat": 4,
  "nbformat_minor": 0,
  "metadata": {
    "colab": {
      "provenance": [],
      "authorship_tag": "ABX9TyO24jonCjGRfBJqbr42jivm",
      "include_colab_link": true
    },
    "kernelspec": {
      "name": "python3",
      "display_name": "Python 3"
    },
    "language_info": {
      "name": "python"
    }
  },
  "cells": [
    {
      "cell_type": "markdown",
      "metadata": {
        "id": "view-in-github",
        "colab_type": "text"
      },
      "source": [
        "<a href=\"https://colab.research.google.com/github/rahmanziaur/BCDemonstration/blob/main/BC_Test.ipynb\" target=\"_parent\"><img src=\"https://colab.research.google.com/assets/colab-badge.svg\" alt=\"Open In Colab\"/></a>"
      ]
    },
    {
      "cell_type": "code",
      "execution_count": 2,
      "metadata": {
        "colab": {
          "base_uri": "https://localhost:8080/"
        },
        "id": "1wKle30EJOGH",
        "outputId": "7d484b92-cf69-4481-aa59-8557cfb3ff4c"
      },
      "outputs": [
        {
          "output_type": "stream",
          "name": "stdout",
          "text": [
            "Genesis block:  [{'index': 1, 'timestamp': 1662171781.0191014, 'transactions': [], 'proof': 100, 'previous_hash': 'This is a test block, Dated: 03/09/2022'}, {'index': 2, 'timestamp': 1662171781.0193028, 'transactions': [{'sender': 'Satoshi', 'recipient': 'Mike', 'amount': '5 BTC'}, {'sender': 'Mike', 'recipient': 'Satoshi', 'amount': '1 BTC'}, {'sender': 'Satoshi', 'recipient': 'Hal Finney', 'amount': '5 BTC'}], 'proof': 12345, 'previous_hash': '7dcd4b41af1e83467d7718455864c33e1ca9a8df86e7c42588866707c6d043aa'}, {'index': 3, 'timestamp': 1662171781.0195322, 'transactions': [{'sender': 'Mike', 'recipient': 'Alice', 'amount': '1 BTC'}, {'sender': 'Alice', 'recipient': 'Bob', 'amount': '0.5 BTC'}, {'sender': 'Bob', 'recipient': 'Mike', 'amount': '0.5 BTC'}], 'proof': 6789, 'previous_hash': '701dc0cc49e35c46111451bc65c562ed94ca1d41a77f02d920f64ceb6155579c'}]\n"
          ]
        }
      ],
      "source": [
        "import hashlib\n",
        "import json\n",
        "from time import time\n",
        "\n",
        "class Blockchain(object):\n",
        "    def __init__(self):\n",
        "        self.chain = []\n",
        "        self.pending_transactions = []\n",
        "\n",
        "        self.new_block(previous_hash=\"This is a test block, Dated: 03/09/2022\", proof=100)\n",
        "\n",
        "# Create a new block listing key/value pairs of block information in a JSON object. Reset the list of pending transactions & append the newest block to the chain.\n",
        "\n",
        "    def new_block(self, proof, previous_hash=None):\n",
        "        block = {\n",
        "            'index': len(self.chain) + 1,\n",
        "            'timestamp': time(),\n",
        "            'transactions': self.pending_transactions,\n",
        "            'proof': proof,\n",
        "            'previous_hash': previous_hash or self.hash(self.chain[-1]),\n",
        "        }\n",
        "        self.pending_transactions = []\n",
        "        self.chain.append(block)\n",
        "\n",
        "        return block\n",
        "\n",
        "#Search the blockchain for the most recent block.\n",
        "\n",
        "    @property\n",
        "    def last_block(self):\n",
        " \n",
        "        return self.chain[-1]\n",
        "\n",
        "# Add a transaction with relevant info to the 'blockpool' - list of pending tx's. \n",
        "\n",
        "    def new_transaction(self, sender, recipient, amount):\n",
        "        transaction = {\n",
        "            'sender': sender,\n",
        "            'recipient': recipient,\n",
        "            'amount': amount\n",
        "        }\n",
        "        self.pending_transactions.append(transaction)\n",
        "        return self.last_block['index'] + 1\n",
        "\n",
        "# receive one block. Turn it into a string, turn that into Unicode (for hashing). Hash with SHA256 encryption, then translate the Unicode into a hexidecimal string.\n",
        "\n",
        "    def hash(self, block):\n",
        "        string_object = json.dumps(block, sort_keys=True)\n",
        "        block_string = string_object.encode()\n",
        "\n",
        "        raw_hash = hashlib.sha256(block_string)\n",
        "        hex_hash = raw_hash.hexdigest()\n",
        "\n",
        "        return hex_hash\n",
        "\n",
        "\n",
        "blockchain = Blockchain()\n",
        "t1 = blockchain.new_transaction(\"Satoshi\", \"Mike\", '5 BTC')\n",
        "t2 = blockchain.new_transaction(\"Mike\", \"Satoshi\", '1 BTC')\n",
        "t3 = blockchain.new_transaction(\"Satoshi\", \"Hal Finney\", '5 BTC')\n",
        "blockchain.new_block(12345)\n",
        "\n",
        "t4 = blockchain.new_transaction(\"Mike\", \"Alice\", '1 BTC')\n",
        "t5 = blockchain.new_transaction(\"Alice\", \"Bob\", '0.5 BTC')\n",
        "t6 = blockchain.new_transaction(\"Bob\", \"Mike\", '0.5 BTC')\n",
        "blockchain.new_block(6789)\n",
        "\n",
        "print(\"Genesis block: \", blockchain.chain)"
      ]
    }
  ]
}