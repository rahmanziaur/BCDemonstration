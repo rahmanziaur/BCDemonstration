{
  "nbformat": 4,
  "nbformat_minor": 0,
  "metadata": {
    "colab": {
      "provenance": [],
      "authorship_tag": "ABX9TyNQy6ILopL9DA48YozEx8rC",
      "include_colab_link": true
    },
    "kernelspec": {
      "name": "python3",
      "display_name": "Python 3"
    },
    "language_info": {
      "name": "python"
    }
  },
  "cells": [
    {
      "cell_type": "markdown",
      "metadata": {
        "id": "view-in-github",
        "colab_type": "text"
      },
      "source": [
        "<a href=\"https://colab.research.google.com/github/rahmanziaur/BCDemonstration/blob/main/TestVar.ipynb\" target=\"_parent\"><img src=\"https://colab.research.google.com/assets/colab-badge.svg\" alt=\"Open In Colab\"/></a>"
      ]
    },
    {
      "cell_type": "code",
      "execution_count": null,
      "metadata": {
        "colab": {
          "base_uri": "https://localhost:8080/"
        },
        "id": "igOEJEhWrIgG",
        "outputId": "bcc37787-5f19-4fad-ae25-528504846648"
      },
      "outputs": [
        {
          "output_type": "stream",
          "name": "stdout",
          "text": [
            "Python is Awesome\n",
            "PythonisAwesome\n"
          ]
        }
      ],
      "source": [
        "x = 'Python'\n",
        "y = 'is'\n",
        "z = 'Awesome'\n",
        "\n",
        "print(x,y,z)\n",
        "print(x + y + z)\n"
      ]
    },
    {
      "cell_type": "markdown",
      "source": [
        "**This is simple addition**"
      ],
      "metadata": {
        "id": "0Sv4V-LJsNKS"
      }
    },
    {
      "cell_type": "code",
      "source": [
        "x = 5\n",
        "y = 10\n",
        "print(x + y)"
      ],
      "metadata": {
        "id": "CHhc8gwfrxLK",
        "outputId": "258b73af-a67b-4e04-b5e0-dba745226fad",
        "colab": {
          "base_uri": "https://localhost:8080/"
        }
      },
      "execution_count": 1,
      "outputs": [
        {
          "output_type": "stream",
          "name": "stdout",
          "text": [
            "15\n"
          ]
        }
      ]
    }
  ]
}