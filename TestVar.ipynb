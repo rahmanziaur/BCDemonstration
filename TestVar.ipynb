{
  "nbformat": 4,
  "nbformat_minor": 0,
  "metadata": {
    "colab": {
      "provenance": [],
      "authorship_tag": "ABX9TyMPRHpYTKlpx5Phe9JzMW5N",
      "include_colab_link": true
    },
    "kernelspec": {
      "name": "python3",
      "display_name": "Python 3"
    },
    "language_info": {
      "name": "python"
    }
  },
  "cells": [
    {
      "cell_type": "markdown",
      "metadata": {
        "id": "view-in-github",
        "colab_type": "text"
      },
      "source": [
        "<a href=\"https://colab.research.google.com/github/rahmanziaur/BCDemonstration/blob/main/TestVar.ipynb\" target=\"_parent\"><img src=\"https://colab.research.google.com/assets/colab-badge.svg\" alt=\"Open In Colab\"/></a>"
      ]
    },
    {
      "cell_type": "code",
      "execution_count": 1,
      "metadata": {
        "colab": {
          "base_uri": "https://localhost:8080/"
        },
        "id": "igOEJEhWrIgG",
        "outputId": "bcc37787-5f19-4fad-ae25-528504846648"
      },
      "outputs": [
        {
          "output_type": "stream",
          "name": "stdout",
          "text": [
            "Python is Awesome\n",
            "PythonisAwesome\n"
          ]
        }
      ],
      "source": [
        "x = 'Python'\n",
        "y = 'is'\n",
        "z = 'Awesome'\n",
        "\n",
        "print(x,y,z)\n",
        "print(x + y + z)\n"
      ]
    }
  ]
}